{
 "cells": [
  {
   "cell_type": "code",
   "execution_count": 1,
   "metadata": {
    "collapsed": false
   },
   "outputs": [
    {
     "name": "stderr",
     "output_type": "stream",
     "text": [
      "Using Theano backend.\n",
      "Using gpu device 0: Tesla M40 (CNMeM is disabled, cuDNN 5005)\n"
     ]
    }
   ],
   "source": [
    "import pandas as pd\n",
    "import numpy as np\n",
    "import math\n",
    "import matplotlib.pyplot as plt\n",
    "from sklearn.linear_model import LogisticRegression\n",
    "from sklearn.ensemble import RandomForestClassifier\n",
    "from sklearn.cross_validation import cross_val_score\n",
    "from sklearn import metrics\n",
    "from sklearn import tree\n",
    "from sklearn.cross_validation import train_test_split\n",
    "from sklearn.metrics import confusion_matrix, roc_curve, auc, classification_report\n",
    "from sklearn.grid_search import GridSearchCV\n",
    "from sklearn import svm\n",
    "from sklearn.manifold import TSNE\n",
    "from sklearn.cross_validation import train_test_split\n",
    "from sklearn.cross_validation import cross_val_score\n",
    "from sklearn.preprocessing import LabelEncoder\n",
    "from sklearn.cross_validation import StratifiedKFold\n",
    "from sklearn.preprocessing import StandardScaler\n",
    "from sklearn.pipeline import Pipeline\n",
    "from sklearn.preprocessing import LabelEncoder\n",
    "from sklearn.cross_validation import cross_val_score\n",
    "from sklearn import cross_validation\n",
    "\n",
    "##Keras\n",
    "from keras.utils import np_utils\n",
    "from keras.models import Sequential\n",
    "from keras.layers import Dense\n",
    "from keras.optimizers import SGD\n",
    "from keras.layers import Dropout, Flatten, Activation\n",
    "from keras.callbacks import LearningRateScheduler\n",
    "from keras.layers.normalization import BatchNormalization\n",
    "from keras.wrappers.scikit_learn import KerasClassifier\n",
    "import keras.utils.visualize_util as vutil\n",
    "from keras.optimizers import Adadelta, Adam, SGD, RMSprop, Adadelta\n",
    "from keras.callbacks import LearningRateScheduler\n",
    "from keras.utils.visualize_util import plot,model_to_dot\n",
    "from keras.layers.convolutional import Convolution2D,MaxPooling2D,Convolution1D,MaxPooling1D\n",
    "from IPython.display import SVG\n",
    "\n",
    "%matplotlib inline  "
   ]
  },
  {
   "cell_type": "code",
   "execution_count": 2,
   "metadata": {
    "collapsed": false
   },
   "outputs": [],
   "source": [
    "genePD = pd.read_table(\"P50Gene.txt\")"
   ]
  },
  {
   "cell_type": "code",
   "execution_count": 3,
   "metadata": {
    "collapsed": false
   },
   "outputs": [
    {
     "data": {
      "text/plain": [
       "(70534, 75)"
      ]
     },
     "execution_count": 3,
     "metadata": {},
     "output_type": "execute_result"
    }
   ],
   "source": [
    "#genePD.iloc[:30,:]\n",
    "genePD.shape"
   ]
  },
  {
   "cell_type": "code",
   "execution_count": 5,
   "metadata": {
    "collapsed": false
   },
   "outputs": [],
   "source": [
    "#genePD.head()"
   ]
  },
  {
   "cell_type": "code",
   "execution_count": 6,
   "metadata": {
    "collapsed": false
   },
   "outputs": [
    {
     "name": "stdout",
     "output_type": "stream",
     "text": [
      "<type 'str'>\n",
      "(68,)\n"
     ]
    }
   ],
   "source": [
    "header = genePD.columns.values[7:]\n",
    "geneLabel = np.zeros_like(header).astype(int)\n",
    "print(type(header[0]))\n",
    "print geneLabel.shape"
   ]
  },
  {
   "cell_type": "code",
   "execution_count": 7,
   "metadata": {
    "collapsed": false
   },
   "outputs": [],
   "source": [
    "for i in range(header.shape[0]):\n",
    "    if(\"P00\" in header[i]):\n",
    "        geneLabel[i]=1"
   ]
  },
  {
   "cell_type": "code",
   "execution_count": 8,
   "metadata": {
    "collapsed": false
   },
   "outputs": [],
   "source": [
    "#con = []\n",
    "#for i in range(header.shape[0]):\n",
    "#    con.append([header[i],geneLabel[i]])"
   ]
  },
  {
   "cell_type": "code",
   "execution_count": 9,
   "metadata": {
    "collapsed": false
   },
   "outputs": [],
   "source": [
    "#con[:10]"
   ]
  },
  {
   "cell_type": "code",
   "execution_count": 10,
   "metadata": {
    "collapsed": false
   },
   "outputs": [],
   "source": [
    "#con[-5:]"
   ]
  },
  {
   "cell_type": "code",
   "execution_count": 11,
   "metadata": {
    "collapsed": false
   },
   "outputs": [],
   "source": [
    "#genePD.iloc[:,7:]\n",
    "genePD1 = genePD.iloc[:,7:]"
   ]
  },
  {
   "cell_type": "code",
   "execution_count": 12,
   "metadata": {
    "collapsed": false
   },
   "outputs": [
    {
     "data": {
      "text/plain": [
       "(1, 68)"
      ]
     },
     "execution_count": 12,
     "metadata": {},
     "output_type": "execute_result"
    }
   ],
   "source": [
    "pd.DataFrame(geneLabel).T.shape"
   ]
  },
  {
   "cell_type": "code",
   "execution_count": 13,
   "metadata": {
    "collapsed": false
   },
   "outputs": [
    {
     "data": {
      "text/html": [
       "<div style=\"max-height:1000px;max-width:1500px;overflow:auto;\">\n",
       "<table border=\"1\" class=\"dataframe\">\n",
       "  <thead>\n",
       "    <tr style=\"text-align: right;\">\n",
       "      <th></th>\n",
       "      <th>10334_P0002-T1_(HTA-2_0).CEL.pimg</th>\n",
       "      <th>10335_P0004-T1_(HTA-2_0).CEL.pimg</th>\n",
       "      <th>10336_P0006-T1_(HTA-2_0).CEL.pimg</th>\n",
       "      <th>10337_P0008-T1_(HTA-2_0).CEL.pimg</th>\n",
       "      <th>10338_P0010-T1_(HTA-2_0).CEL.pimg</th>\n",
       "      <th>10339_P0011-T1_(HTA-2_0).CEL.pimg</th>\n",
       "      <th>10340_P0015-T1_(HTA-2_0).CEL.pimg</th>\n",
       "      <th>10341_P0017-T1_(HTA-2_0).CEL.pimg</th>\n",
       "      <th>10342_P0019-T1_(HTA-2_0).CEL.pimg</th>\n",
       "      <th>10343_P0020-T1_(HTA-2_0).CEL.pimg</th>\n",
       "      <th>10344_P0023-T1_(HTA-2_0).CEL.pimg</th>\n",
       "      <th>10345_P0024-T1_(HTA-2_0).CEL.pimg</th>\n",
       "      <th>10346_P0025-T1_(HTA-2_0).CEL.pimg</th>\n",
       "      <th>10347_P0027-T1_(HTA-2_0).CEL.pimg</th>\n",
       "      <th>10348_P0029-T1_(HTA-2_0).CEL.pimg</th>\n",
       "      <th>10349_P0030-T1_(HTA-2_0).CEL.pimg</th>\n",
       "      <th>10350_P0031-T1_(HTA-2_0).CEL.pimg</th>\n",
       "      <th>10351_P0032-T1_(HTA-2_0).CEL.pimg</th>\n",
       "      <th>10352_P0042-T1_(HTA-2_0).CEL.pimg</th>\n",
       "      <th>10353_P0044-T1_(HTA-2_0).CEL.pimg</th>\n",
       "      <th></th>\n",
       "    </tr>\n",
       "  </thead>\n",
       "  <tbody>\n",
       "    <tr>\n",
       "      <th>0</th>\n",
       "      <td> 4.87136</td>\n",
       "      <td> 4.78377</td>\n",
       "      <td> 4.53131</td>\n",
       "      <td> 4.61647</td>\n",
       "      <td> 4.59979</td>\n",
       "      <td> 4.69951</td>\n",
       "      <td> 4.44912</td>\n",
       "      <td> 4.73384</td>\n",
       "      <td> 4.69539</td>\n",
       "      <td> 4.85434</td>\n",
       "      <td> 4.76349</td>\n",
       "      <td> 4.44754</td>\n",
       "      <td> 4.78389</td>\n",
       "      <td> 4.86275</td>\n",
       "      <td> 4.96451</td>\n",
       "      <td> 4.66143</td>\n",
       "      <td> 4.76177</td>\n",
       "      <td> 4.63940</td>\n",
       "      <td> 4.57855</td>\n",
       "      <td> 5.16820</td>\n",
       "      <td>...</td>\n",
       "    </tr>\n",
       "    <tr>\n",
       "      <th>1</th>\n",
       "      <td> 2.83152</td>\n",
       "      <td> 2.54463</td>\n",
       "      <td> 2.15487</td>\n",
       "      <td> 2.21499</td>\n",
       "      <td> 2.30246</td>\n",
       "      <td> 2.19925</td>\n",
       "      <td> 2.26428</td>\n",
       "      <td> 2.31739</td>\n",
       "      <td> 2.18415</td>\n",
       "      <td> 3.16996</td>\n",
       "      <td> 2.80937</td>\n",
       "      <td> 2.23663</td>\n",
       "      <td> 2.88632</td>\n",
       "      <td> 2.53508</td>\n",
       "      <td> 2.84542</td>\n",
       "      <td> 2.62939</td>\n",
       "      <td> 2.77089</td>\n",
       "      <td> 2.49775</td>\n",
       "      <td> 2.49123</td>\n",
       "      <td> 2.96151</td>\n",
       "      <td>...</td>\n",
       "    </tr>\n",
       "    <tr>\n",
       "      <th>2</th>\n",
       "      <td> 7.44357</td>\n",
       "      <td> 7.57288</td>\n",
       "      <td> 8.15854</td>\n",
       "      <td> 9.23785</td>\n",
       "      <td> 7.76936</td>\n",
       "      <td> 8.39819</td>\n",
       "      <td> 8.81647</td>\n",
       "      <td> 8.00555</td>\n",
       "      <td> 8.10353</td>\n",
       "      <td> 5.09584</td>\n",
       "      <td> 7.24615</td>\n",
       "      <td> 8.82426</td>\n",
       "      <td> 6.85516</td>\n",
       "      <td> 7.08659</td>\n",
       "      <td> 6.31959</td>\n",
       "      <td> 7.82094</td>\n",
       "      <td> 7.65633</td>\n",
       "      <td> 8.75288</td>\n",
       "      <td> 8.88902</td>\n",
       "      <td> 5.50549</td>\n",
       "      <td>...</td>\n",
       "    </tr>\n",
       "    <tr>\n",
       "      <th>3</th>\n",
       "      <td> 4.79338</td>\n",
       "      <td> 4.52983</td>\n",
       "      <td> 4.33860</td>\n",
       "      <td> 4.08913</td>\n",
       "      <td> 4.20969</td>\n",
       "      <td> 4.26832</td>\n",
       "      <td> 4.03489</td>\n",
       "      <td> 4.51406</td>\n",
       "      <td> 4.29894</td>\n",
       "      <td> 4.74181</td>\n",
       "      <td> 4.48198</td>\n",
       "      <td> 4.00659</td>\n",
       "      <td> 4.78036</td>\n",
       "      <td> 4.34761</td>\n",
       "      <td> 4.46845</td>\n",
       "      <td> 4.34083</td>\n",
       "      <td> 4.42759</td>\n",
       "      <td> 4.39995</td>\n",
       "      <td> 4.17632</td>\n",
       "      <td> 4.70299</td>\n",
       "      <td>...</td>\n",
       "    </tr>\n",
       "    <tr>\n",
       "      <th>4</th>\n",
       "      <td> 5.25525</td>\n",
       "      <td> 5.12963</td>\n",
       "      <td> 5.09532</td>\n",
       "      <td> 5.16179</td>\n",
       "      <td> 4.97679</td>\n",
       "      <td> 5.10457</td>\n",
       "      <td> 4.93976</td>\n",
       "      <td> 5.20587</td>\n",
       "      <td> 5.34848</td>\n",
       "      <td> 5.33516</td>\n",
       "      <td> 5.30964</td>\n",
       "      <td> 4.96604</td>\n",
       "      <td> 5.24186</td>\n",
       "      <td> 4.98327</td>\n",
       "      <td> 5.30314</td>\n",
       "      <td> 5.08783</td>\n",
       "      <td> 5.01474</td>\n",
       "      <td> 5.31235</td>\n",
       "      <td> 5.09411</td>\n",
       "      <td> 5.22861</td>\n",
       "      <td>...</td>\n",
       "    </tr>\n",
       "  </tbody>\n",
       "</table>\n",
       "<p>5 rows × 68 columns</p>\n",
       "</div>"
      ],
      "text/plain": [
       "   10334_P0002-T1_(HTA-2_0).CEL.pimg  10335_P0004-T1_(HTA-2_0).CEL.pimg  \\\n",
       "0                            4.87136                            4.78377   \n",
       "1                            2.83152                            2.54463   \n",
       "2                            7.44357                            7.57288   \n",
       "3                            4.79338                            4.52983   \n",
       "4                            5.25525                            5.12963   \n",
       "\n",
       "   10336_P0006-T1_(HTA-2_0).CEL.pimg  10337_P0008-T1_(HTA-2_0).CEL.pimg  \\\n",
       "0                            4.53131                            4.61647   \n",
       "1                            2.15487                            2.21499   \n",
       "2                            8.15854                            9.23785   \n",
       "3                            4.33860                            4.08913   \n",
       "4                            5.09532                            5.16179   \n",
       "\n",
       "   10338_P0010-T1_(HTA-2_0).CEL.pimg  10339_P0011-T1_(HTA-2_0).CEL.pimg  \\\n",
       "0                            4.59979                            4.69951   \n",
       "1                            2.30246                            2.19925   \n",
       "2                            7.76936                            8.39819   \n",
       "3                            4.20969                            4.26832   \n",
       "4                            4.97679                            5.10457   \n",
       "\n",
       "   10340_P0015-T1_(HTA-2_0).CEL.pimg  10341_P0017-T1_(HTA-2_0).CEL.pimg  \\\n",
       "0                            4.44912                            4.73384   \n",
       "1                            2.26428                            2.31739   \n",
       "2                            8.81647                            8.00555   \n",
       "3                            4.03489                            4.51406   \n",
       "4                            4.93976                            5.20587   \n",
       "\n",
       "   10342_P0019-T1_(HTA-2_0).CEL.pimg  10343_P0020-T1_(HTA-2_0).CEL.pimg  \\\n",
       "0                            4.69539                            4.85434   \n",
       "1                            2.18415                            3.16996   \n",
       "2                            8.10353                            5.09584   \n",
       "3                            4.29894                            4.74181   \n",
       "4                            5.34848                            5.33516   \n",
       "\n",
       "   10344_P0023-T1_(HTA-2_0).CEL.pimg  10345_P0024-T1_(HTA-2_0).CEL.pimg  \\\n",
       "0                            4.76349                            4.44754   \n",
       "1                            2.80937                            2.23663   \n",
       "2                            7.24615                            8.82426   \n",
       "3                            4.48198                            4.00659   \n",
       "4                            5.30964                            4.96604   \n",
       "\n",
       "   10346_P0025-T1_(HTA-2_0).CEL.pimg  10347_P0027-T1_(HTA-2_0).CEL.pimg  \\\n",
       "0                            4.78389                            4.86275   \n",
       "1                            2.88632                            2.53508   \n",
       "2                            6.85516                            7.08659   \n",
       "3                            4.78036                            4.34761   \n",
       "4                            5.24186                            4.98327   \n",
       "\n",
       "   10348_P0029-T1_(HTA-2_0).CEL.pimg  10349_P0030-T1_(HTA-2_0).CEL.pimg  \\\n",
       "0                            4.96451                            4.66143   \n",
       "1                            2.84542                            2.62939   \n",
       "2                            6.31959                            7.82094   \n",
       "3                            4.46845                            4.34083   \n",
       "4                            5.30314                            5.08783   \n",
       "\n",
       "   10350_P0031-T1_(HTA-2_0).CEL.pimg  10351_P0032-T1_(HTA-2_0).CEL.pimg  \\\n",
       "0                            4.76177                            4.63940   \n",
       "1                            2.77089                            2.49775   \n",
       "2                            7.65633                            8.75288   \n",
       "3                            4.42759                            4.39995   \n",
       "4                            5.01474                            5.31235   \n",
       "\n",
       "   10352_P0042-T1_(HTA-2_0).CEL.pimg  10353_P0044-T1_(HTA-2_0).CEL.pimg      \n",
       "0                            4.57855                            5.16820 ...  \n",
       "1                            2.49123                            2.96151 ...  \n",
       "2                            8.88902                            5.50549 ...  \n",
       "3                            4.17632                            4.70299 ...  \n",
       "4                            5.09411                            5.22861 ...  \n",
       "\n",
       "[5 rows x 68 columns]"
      ]
     },
     "execution_count": 13,
     "metadata": {},
     "output_type": "execute_result"
    }
   ],
   "source": [
    "genePD1.head()"
   ]
  },
  {
   "cell_type": "code",
   "execution_count": 14,
   "metadata": {
    "collapsed": false
   },
   "outputs": [
    {
     "name": "stdout",
     "output_type": "stream",
     "text": [
      "(68, 70534)\n"
     ]
    }
   ],
   "source": [
    "genePD2 = genePD1.T\n",
    "print(genePD2.shape)"
   ]
  },
  {
   "cell_type": "code",
   "execution_count": 15,
   "metadata": {
    "collapsed": false
   },
   "outputs": [
    {
     "data": {
      "text/html": [
       "<div style=\"max-height:1000px;max-width:1500px;overflow:auto;\">\n",
       "<table border=\"1\" class=\"dataframe\">\n",
       "  <thead>\n",
       "    <tr style=\"text-align: right;\">\n",
       "      <th></th>\n",
       "      <th>0</th>\n",
       "      <th>1</th>\n",
       "      <th>2</th>\n",
       "      <th>3</th>\n",
       "      <th>4</th>\n",
       "      <th>5</th>\n",
       "      <th>6</th>\n",
       "      <th>7</th>\n",
       "      <th>8</th>\n",
       "      <th>9</th>\n",
       "      <th>10</th>\n",
       "      <th>11</th>\n",
       "      <th>12</th>\n",
       "      <th>13</th>\n",
       "      <th>14</th>\n",
       "      <th>15</th>\n",
       "      <th>16</th>\n",
       "      <th>17</th>\n",
       "      <th>18</th>\n",
       "      <th>19</th>\n",
       "      <th></th>\n",
       "    </tr>\n",
       "  </thead>\n",
       "  <tbody>\n",
       "    <tr>\n",
       "      <th>10334_P0002-T1_(HTA-2_0).CEL.pimg</th>\n",
       "      <td> 4.87136</td>\n",
       "      <td> 2.83152</td>\n",
       "      <td> 7.44357</td>\n",
       "      <td> 4.79338</td>\n",
       "      <td> 5.25525</td>\n",
       "      <td> 4.86576</td>\n",
       "      <td> 2.83494</td>\n",
       "      <td> 4.91114</td>\n",
       "      <td> 3.90338</td>\n",
       "      <td> 3.86068</td>\n",
       "      <td> 5.52244</td>\n",
       "      <td> 3.41357</td>\n",
       "      <td> 1.08527</td>\n",
       "      <td> 6.28080</td>\n",
       "      <td> 2.15164</td>\n",
       "      <td> 2.08403</td>\n",
       "      <td> 4.16124</td>\n",
       "      <td> 4.98600</td>\n",
       "      <td> 2.52245</td>\n",
       "      <td> 5.08710</td>\n",
       "      <td>...</td>\n",
       "    </tr>\n",
       "    <tr>\n",
       "      <th>10335_P0004-T1_(HTA-2_0).CEL.pimg</th>\n",
       "      <td> 4.78377</td>\n",
       "      <td> 2.54463</td>\n",
       "      <td> 7.57288</td>\n",
       "      <td> 4.52983</td>\n",
       "      <td> 5.12963</td>\n",
       "      <td> 4.74778</td>\n",
       "      <td> 2.54434</td>\n",
       "      <td> 4.58574</td>\n",
       "      <td> 3.99433</td>\n",
       "      <td> 3.54164</td>\n",
       "      <td> 5.14009</td>\n",
       "      <td> 3.27056</td>\n",
       "      <td> 1.32740</td>\n",
       "      <td> 5.86095</td>\n",
       "      <td> 1.96600</td>\n",
       "      <td> 1.85380</td>\n",
       "      <td> 3.59303</td>\n",
       "      <td> 5.17989</td>\n",
       "      <td> 2.79534</td>\n",
       "      <td> 5.25150</td>\n",
       "      <td>...</td>\n",
       "    </tr>\n",
       "    <tr>\n",
       "      <th>10336_P0006-T1_(HTA-2_0).CEL.pimg</th>\n",
       "      <td> 4.53131</td>\n",
       "      <td> 2.15487</td>\n",
       "      <td> 8.15854</td>\n",
       "      <td> 4.33860</td>\n",
       "      <td> 5.09532</td>\n",
       "      <td> 4.02288</td>\n",
       "      <td> 2.22244</td>\n",
       "      <td> 3.90208</td>\n",
       "      <td> 3.71936</td>\n",
       "      <td> 3.21449</td>\n",
       "      <td> 5.10882</td>\n",
       "      <td> 2.74734</td>\n",
       "      <td> 1.27408</td>\n",
       "      <td> 6.04253</td>\n",
       "      <td> 1.93392</td>\n",
       "      <td> 1.91717</td>\n",
       "      <td> 3.56547</td>\n",
       "      <td> 5.91583</td>\n",
       "      <td> 1.50201</td>\n",
       "      <td> 4.97899</td>\n",
       "      <td>...</td>\n",
       "    </tr>\n",
       "    <tr>\n",
       "      <th>10337_P0008-T1_(HTA-2_0).CEL.pimg</th>\n",
       "      <td> 4.61647</td>\n",
       "      <td> 2.21499</td>\n",
       "      <td> 9.23785</td>\n",
       "      <td> 4.08913</td>\n",
       "      <td> 5.16179</td>\n",
       "      <td> 4.29374</td>\n",
       "      <td> 2.57431</td>\n",
       "      <td> 4.13444</td>\n",
       "      <td> 3.61667</td>\n",
       "      <td> 3.30135</td>\n",
       "      <td> 4.97830</td>\n",
       "      <td> 2.92673</td>\n",
       "      <td> 1.11526</td>\n",
       "      <td> 6.22503</td>\n",
       "      <td> 1.75350</td>\n",
       "      <td> 1.91137</td>\n",
       "      <td> 3.58365</td>\n",
       "      <td> 5.83059</td>\n",
       "      <td> 1.83321</td>\n",
       "      <td> 4.65183</td>\n",
       "      <td>...</td>\n",
       "    </tr>\n",
       "    <tr>\n",
       "      <th>10338_P0010-T1_(HTA-2_0).CEL.pimg</th>\n",
       "      <td> 4.59979</td>\n",
       "      <td> 2.30246</td>\n",
       "      <td> 7.76936</td>\n",
       "      <td> 4.20969</td>\n",
       "      <td> 4.97679</td>\n",
       "      <td> 4.52618</td>\n",
       "      <td> 1.94363</td>\n",
       "      <td> 4.36768</td>\n",
       "      <td> 3.50123</td>\n",
       "      <td> 3.05553</td>\n",
       "      <td> 5.26039</td>\n",
       "      <td> 3.14082</td>\n",
       "      <td> 1.54465</td>\n",
       "      <td> 5.76144</td>\n",
       "      <td> 1.71742</td>\n",
       "      <td> 1.90399</td>\n",
       "      <td> 3.99412</td>\n",
       "      <td> 5.64458</td>\n",
       "      <td> 1.96906</td>\n",
       "      <td> 4.90701</td>\n",
       "      <td>...</td>\n",
       "    </tr>\n",
       "  </tbody>\n",
       "</table>\n",
       "<p>5 rows × 70534 columns</p>\n",
       "</div>"
      ],
      "text/plain": [
       "                                        0        1        2        3   \\\n",
       "10334_P0002-T1_(HTA-2_0).CEL.pimg  4.87136  2.83152  7.44357  4.79338   \n",
       "10335_P0004-T1_(HTA-2_0).CEL.pimg  4.78377  2.54463  7.57288  4.52983   \n",
       "10336_P0006-T1_(HTA-2_0).CEL.pimg  4.53131  2.15487  8.15854  4.33860   \n",
       "10337_P0008-T1_(HTA-2_0).CEL.pimg  4.61647  2.21499  9.23785  4.08913   \n",
       "10338_P0010-T1_(HTA-2_0).CEL.pimg  4.59979  2.30246  7.76936  4.20969   \n",
       "\n",
       "                                        4        5        6        7   \\\n",
       "10334_P0002-T1_(HTA-2_0).CEL.pimg  5.25525  4.86576  2.83494  4.91114   \n",
       "10335_P0004-T1_(HTA-2_0).CEL.pimg  5.12963  4.74778  2.54434  4.58574   \n",
       "10336_P0006-T1_(HTA-2_0).CEL.pimg  5.09532  4.02288  2.22244  3.90208   \n",
       "10337_P0008-T1_(HTA-2_0).CEL.pimg  5.16179  4.29374  2.57431  4.13444   \n",
       "10338_P0010-T1_(HTA-2_0).CEL.pimg  4.97679  4.52618  1.94363  4.36768   \n",
       "\n",
       "                                        8        9        10       11  \\\n",
       "10334_P0002-T1_(HTA-2_0).CEL.pimg  3.90338  3.86068  5.52244  3.41357   \n",
       "10335_P0004-T1_(HTA-2_0).CEL.pimg  3.99433  3.54164  5.14009  3.27056   \n",
       "10336_P0006-T1_(HTA-2_0).CEL.pimg  3.71936  3.21449  5.10882  2.74734   \n",
       "10337_P0008-T1_(HTA-2_0).CEL.pimg  3.61667  3.30135  4.97830  2.92673   \n",
       "10338_P0010-T1_(HTA-2_0).CEL.pimg  3.50123  3.05553  5.26039  3.14082   \n",
       "\n",
       "                                        12       13       14       15  \\\n",
       "10334_P0002-T1_(HTA-2_0).CEL.pimg  1.08527  6.28080  2.15164  2.08403   \n",
       "10335_P0004-T1_(HTA-2_0).CEL.pimg  1.32740  5.86095  1.96600  1.85380   \n",
       "10336_P0006-T1_(HTA-2_0).CEL.pimg  1.27408  6.04253  1.93392  1.91717   \n",
       "10337_P0008-T1_(HTA-2_0).CEL.pimg  1.11526  6.22503  1.75350  1.91137   \n",
       "10338_P0010-T1_(HTA-2_0).CEL.pimg  1.54465  5.76144  1.71742  1.90399   \n",
       "\n",
       "                                        16       17       18       19      \n",
       "10334_P0002-T1_(HTA-2_0).CEL.pimg  4.16124  4.98600  2.52245  5.08710 ...  \n",
       "10335_P0004-T1_(HTA-2_0).CEL.pimg  3.59303  5.17989  2.79534  5.25150 ...  \n",
       "10336_P0006-T1_(HTA-2_0).CEL.pimg  3.56547  5.91583  1.50201  4.97899 ...  \n",
       "10337_P0008-T1_(HTA-2_0).CEL.pimg  3.58365  5.83059  1.83321  4.65183 ...  \n",
       "10338_P0010-T1_(HTA-2_0).CEL.pimg  3.99412  5.64458  1.96906  4.90701 ...  \n",
       "\n",
       "[5 rows x 70534 columns]"
      ]
     },
     "execution_count": 15,
     "metadata": {},
     "output_type": "execute_result"
    }
   ],
   "source": [
    "genePD2.head()"
   ]
  },
  {
   "cell_type": "code",
   "execution_count": 16,
   "metadata": {
    "collapsed": false
   },
   "outputs": [],
   "source": [
    "#Splitting data into train and testing. 70% Training and 30% Testing..\n",
    "X_train, X_test, Y_train, Y_test = train_test_split(genePD2, geneLabel, test_size=0.3, random_state=4)"
   ]
  },
  {
   "cell_type": "code",
   "execution_count": 17,
   "metadata": {
    "collapsed": false
   },
   "outputs": [
    {
     "name": "stdout",
     "output_type": "stream",
     "text": [
      "((47, 70534), (21, 70534))\n",
      "((47,), (21,))\n"
     ]
    }
   ],
   "source": [
    "print(X_train.shape, X_test.shape)\n",
    "print(Y_train.shape, Y_test.shape)"
   ]
  },
  {
   "cell_type": "code",
   "execution_count": 18,
   "metadata": {
    "collapsed": false
   },
   "outputs": [
    {
     "name": "stdout",
     "output_type": "stream",
     "text": [
      "((68, 70534), (68,))\n"
     ]
    }
   ],
   "source": [
    "X = genePD2.values\n",
    "Y = geneLabel\n",
    "print(X.shape, Y.shape)"
   ]
  },
  {
   "cell_type": "code",
   "execution_count": 19,
   "metadata": {
    "collapsed": true
   },
   "outputs": [],
   "source": [
    "num_folds = 10\n",
    "num_instances = len(X)\n",
    "seed = 7\n",
    "test_size = 0.30\n",
    "num_samples = 10"
   ]
  },
  {
   "cell_type": "code",
   "execution_count": 20,
   "metadata": {
    "collapsed": false
   },
   "outputs": [
    {
     "name": "stdout",
     "output_type": "stream",
     "text": [
      "Accuracy: 0.871\n"
     ]
    }
   ],
   "source": [
    "#Logistic Regression-sklearn\n",
    "kfold = cross_validation.KFold(n=num_instances, n_folds=num_folds, random_state=seed)\n",
    "model = LogisticRegression()\n",
    "loocv = cross_validation.LeaveOneOut(n=num_instances)\n",
    "kfold = cross_validation.ShuffleSplit(n=num_instances, n_iter=num_samples, test_size=test_size, random_state=seed)\n",
    "scoring = 'accuracy'\n",
    "#scoring = 'roc_auc'\n",
    "results = cross_validation.cross_val_score(model, X, Y, cv=kfold, scoring=scoring)\n",
    "#results = cross_validation.cross_val_score(model, X, Y, cv=loocv)\n",
    "#results = cross_validation.cross_val_score(model, X, Y, cv=kfold)\n",
    "print(\"Accuracy: %.3f\") % (results.mean())\n",
    "#print(\"AUC: %.3f\") % (results.mean())"
   ]
  },
  {
   "cell_type": "code",
   "execution_count": 20,
   "metadata": {
    "collapsed": false
   },
   "outputs": [
    {
     "name": "stdout",
     "output_type": "stream",
     "text": [
      "0.904761904762\n",
      "[[ 5  2]\n",
      " [ 0 14]]\n",
      "             precision    recall  f1-score   support\n",
      "\n",
      "          0       1.00      0.71      0.83         7\n",
      "          1       0.88      1.00      0.93        14\n",
      "\n",
      "avg / total       0.92      0.90      0.90        21\n",
      "\n"
     ]
    }
   ],
   "source": [
    "X_train, X_test, Y_train, Y_test = cross_validation.train_test_split(X, Y, test_size=test_size, random_state=seed)\n",
    "model = LogisticRegression()\n",
    "model.fit(X_train, Y_train)\n",
    "predicted = model.predict(X_test)\n",
    "matrix = confusion_matrix(Y_test, predicted)\n",
    "print metrics.accuracy_score(Y_test, predicted)\n",
    "print(matrix)\n",
    "report = classification_report(Y_test, predicted)\n",
    "print(report)"
   ]
  },
  {
   "cell_type": "code",
   "execution_count": 21,
   "metadata": {
    "collapsed": false
   },
   "outputs": [
    {
     "name": "stdout",
     "output_type": "stream",
     "text": [
      "0.761904761905\n",
      "[[ 4  3]\n",
      " [ 2 12]]\n",
      "             precision    recall  f1-score   support\n",
      "\n",
      "          0       0.67      0.57      0.62         7\n",
      "          1       0.80      0.86      0.83        14\n",
      "\n",
      "avg / total       0.76      0.76      0.76        21\n",
      "\n"
     ]
    }
   ],
   "source": [
    "X_train, X_test, Y_train, Y_test = cross_validation.train_test_split(X, Y, test_size=test_size, random_state=seed)\n",
    "model = RandomForestClassifier()\n",
    "model.fit(X_train, Y_train)\n",
    "predicted = model.predict(X_test)\n",
    "matrix = confusion_matrix(Y_test, predicted)\n",
    "print metrics.accuracy_score(Y_test, predicted)\n",
    "print(matrix)\n",
    "report = classification_report(Y_test, predicted)\n",
    "print(report)"
   ]
  },
  {
   "cell_type": "code",
   "execution_count": 22,
   "metadata": {
    "collapsed": false
   },
   "outputs": [],
   "source": [
    "#Logistic Regression-sklearn\n",
    "#logReg = LogisticRegression()\n",
    "#logReg.fit(X_train.values,Y_train)\n",
    "#Y_logPred = logReg.predict(X_test)\n",
    "#print metrics.accuracy_score(Y_test.reshape(len(Y_test),1),Y_logPred)\n",
    "#Confusion matrix of logistic regression\n",
    "#conf = metrics.confusion_matrix(Y_test,Y_logPred)\n",
    "#print conf"
   ]
  },
  {
   "cell_type": "code",
   "execution_count": 23,
   "metadata": {
    "collapsed": false
   },
   "outputs": [],
   "source": [
    "#Random Forest Classification\n",
    "#randForest = RandomForestClassifier(n_estimators=100)\n",
    "#randForest.fit(X_train,Y_train)\n",
    "#Y_randForestPred = randForest.predict(X_test)\n",
    "#print metrics.accuracy_score(Y_test,Y_randForestPred)\n",
    "#Confusion matrix for randomforest\n",
    "#conf2 = metrics.confusion_matrix(Y_test,Y_randForestPred)\n",
    "#print conf2"
   ]
  },
  {
   "cell_type": "code",
   "execution_count": 24,
   "metadata": {
    "collapsed": false
   },
   "outputs": [],
   "source": [
    "##Deep Learning"
   ]
  },
  {
   "cell_type": "code",
   "execution_count": 25,
   "metadata": {
    "collapsed": false
   },
   "outputs": [],
   "source": [
    "#X_train, X_test, Y_train, Y_test = train_test_split(genePD2, geneLabel, test_size=0.3, random_state=4)"
   ]
  },
  {
   "cell_type": "code",
   "execution_count": null,
   "metadata": {
    "collapsed": false
   },
   "outputs": [],
   "source": []
  },
  {
   "cell_type": "code",
   "execution_count": 26,
   "metadata": {
    "collapsed": false
   },
   "outputs": [
    {
     "name": "stdout",
     "output_type": "stream",
     "text": [
      "Larger: 82.92% (16.92%)\n"
     ]
    }
   ],
   "source": [
    "# fix random seed for reproducibility\n",
    "seed = 7\n",
    "np.random.seed(seed)\n",
    "# encode class values as integers\n",
    "encoder = LabelEncoder()\n",
    "encoder.fit(Y)\n",
    "encoded_Y = encoder.transform(Y)\n",
    "#encoded_Y\n",
    "# convert integers to dummy variables (i.e. one hot encoded)\n",
    "#dummy_y = np_utils.to_categorical(encoded_Y)\n",
    "\n",
    "# dropout in hidden layers with weight constraint\n",
    "def create_model():\n",
    "    # create model\n",
    "    model = Sequential()\n",
    "    #model.add(Dropout(0.2), input_shape=(70534,))\n",
    "    #model.add(Dense(300, init= 'normal', activation= 'relu' ))\n",
    "    model.add(Dense(300, input_dim=70534, init= 'normal' , activation= 'relu' ))\n",
    "    model.add(Dropout(0.5))\n",
    "    model.add(Dense(100, init= 'normal', activation= 'relu'))\n",
    "    model.add(Dropout(0.5))\n",
    "    model.add(Dense(20, init= 'normal', activation= 'relu'))\n",
    "    model.add(Dropout(0.5))\n",
    "    model.add(Dense(1, init= 'normal' , activation= 'sigmoid'))\n",
    "    # Compile model\n",
    "    model.compile(loss= 'binary_crossentropy' , optimizer= 'adam' , metrics=['accuracy'])\n",
    "    return model\n",
    "\n",
    "np.random.seed(seed)\n",
    "estimators = []\n",
    "estimators.append(('standardize' , StandardScaler()))\n",
    "estimators.append(('mlp', KerasClassifier(build_fn=create_model, nb_epoch=100, batch_size=5, verbose=0)))\n",
    "pipeline = Pipeline(estimators)\n",
    "kfold = StratifiedKFold(y=encoded_Y, n_folds=10, shuffle=True, random_state=seed)\n",
    "results = cross_val_score(pipeline, X, encoded_Y, cv=kfold)\n",
    "print(\"Larger: %.2f%% (%.2f%%)\" % (results.mean()*100, results.std()*100))"
   ]
  },
  {
   "cell_type": "code",
   "execution_count": 27,
   "metadata": {
    "collapsed": false
   },
   "outputs": [
    {
     "name": "stdout",
     "output_type": "stream",
     "text": [
      "____________________________________________________________________________________________________\n",
      "Layer (type)                     Output Shape          Param #     Connected to                     \n",
      "====================================================================================================\n",
      "dense_41 (Dense)                 (None, 300)           21160500    dense_input_11[0][0]             \n",
      "____________________________________________________________________________________________________\n",
      "dropout_31 (Dropout)             (None, 300)           0           dense_41[0][0]                   \n",
      "____________________________________________________________________________________________________\n",
      "dense_42 (Dense)                 (None, 100)           30100       dropout_31[0][0]                 \n",
      "____________________________________________________________________________________________________\n",
      "dropout_32 (Dropout)             (None, 100)           0           dense_42[0][0]                   \n",
      "____________________________________________________________________________________________________\n",
      "dense_43 (Dense)                 (None, 20)            2020        dropout_32[0][0]                 \n",
      "____________________________________________________________________________________________________\n",
      "dropout_33 (Dropout)             (None, 20)            0           dense_43[0][0]                   \n",
      "____________________________________________________________________________________________________\n",
      "dense_44 (Dense)                 (None, 1)             21          dropout_33[0][0]                 \n",
      "====================================================================================================\n",
      "Total params: 21192641\n",
      "____________________________________________________________________________________________________\n"
     ]
    }
   ],
   "source": [
    "create_model().summary()"
   ]
  },
  {
   "cell_type": "code",
   "execution_count": 28,
   "metadata": {
    "collapsed": false
   },
   "outputs": [
    {
     "data": {
      "image/svg+xml": [
       "<svg height=\"564pt\" viewBox=\"0.00 0.00 182.00 564.00\" width=\"182pt\" xmlns=\"http://www.w3.org/2000/svg\" xmlns:xlink=\"http://www.w3.org/1999/xlink\">\n",
       "<g class=\"graph\" id=\"graph0\" transform=\"scale(1 1) rotate(0) translate(4 560)\">\n",
       "<title>G</title>\n",
       "<polygon fill=\"white\" points=\"-4,4 -4,-560 178,-560 178,4 -4,4\" stroke=\"none\"/>\n",
       "<!-- 140569776787216 -->\n",
       "<g class=\"node\" id=\"node1\"><title>140569776787216</title>\n",
       "<polygon fill=\"none\" points=\"-0.5,-519 -0.5,-555 174.5,-555 174.5,-519 -0.5,-519\" stroke=\"black\"/>\n",
       "<text font-family=\"Times,serif\" font-size=\"14.00\" text-anchor=\"middle\" x=\"87\" y=\"-533.3\">dense_input_12 (InputLayer)</text>\n",
       "</g>\n",
       "<!-- 140569776787344 -->\n",
       "<g class=\"node\" id=\"node2\"><title>140569776787344</title>\n",
       "<polygon fill=\"none\" points=\"30,-445 30,-481 144,-481 144,-445 30,-445\" stroke=\"black\"/>\n",
       "<text font-family=\"Times,serif\" font-size=\"14.00\" text-anchor=\"middle\" x=\"87\" y=\"-459.3\">dense_45 (Dense)</text>\n",
       "</g>\n",
       "<!-- 140569776787216&#45;&gt;140569776787344 -->\n",
       "<g class=\"edge\" id=\"edge1\"><title>140569776787216-&gt;140569776787344</title>\n",
       "<path d=\"M87,-518.937C87,-510.807 87,-500.876 87,-491.705\" fill=\"none\" stroke=\"black\"/>\n",
       "<polygon fill=\"black\" points=\"90.5001,-491.441 87,-481.441 83.5001,-491.441 90.5001,-491.441\" stroke=\"black\"/>\n",
       "</g>\n",
       "<!-- 140569858305296 -->\n",
       "<g class=\"node\" id=\"node3\"><title>140569858305296</title>\n",
       "<polygon fill=\"none\" points=\"18.5,-371 18.5,-407 155.5,-407 155.5,-371 18.5,-371\" stroke=\"black\"/>\n",
       "<text font-family=\"Times,serif\" font-size=\"14.00\" text-anchor=\"middle\" x=\"87\" y=\"-385.3\">dropout_34 (Dropout)</text>\n",
       "</g>\n",
       "<!-- 140569776787344&#45;&gt;140569858305296 -->\n",
       "<g class=\"edge\" id=\"edge2\"><title>140569776787344-&gt;140569858305296</title>\n",
       "<path d=\"M87,-444.937C87,-436.807 87,-426.876 87,-417.705\" fill=\"none\" stroke=\"black\"/>\n",
       "<polygon fill=\"black\" points=\"90.5001,-417.441 87,-407.441 83.5001,-417.441 90.5001,-417.441\" stroke=\"black\"/>\n",
       "</g>\n",
       "<!-- 140570198317456 -->\n",
       "<g class=\"node\" id=\"node4\"><title>140570198317456</title>\n",
       "<polygon fill=\"none\" points=\"30,-297 30,-333 144,-333 144,-297 30,-297\" stroke=\"black\"/>\n",
       "<text font-family=\"Times,serif\" font-size=\"14.00\" text-anchor=\"middle\" x=\"87\" y=\"-311.3\">dense_46 (Dense)</text>\n",
       "</g>\n",
       "<!-- 140569858305296&#45;&gt;140570198317456 -->\n",
       "<g class=\"edge\" id=\"edge3\"><title>140569858305296-&gt;140570198317456</title>\n",
       "<path d=\"M87,-370.937C87,-362.807 87,-352.876 87,-343.705\" fill=\"none\" stroke=\"black\"/>\n",
       "<polygon fill=\"black\" points=\"90.5001,-343.441 87,-333.441 83.5001,-343.441 90.5001,-343.441\" stroke=\"black\"/>\n",
       "</g>\n",
       "<!-- 140570187480336 -->\n",
       "<g class=\"node\" id=\"node5\"><title>140570187480336</title>\n",
       "<polygon fill=\"none\" points=\"18.5,-223 18.5,-259 155.5,-259 155.5,-223 18.5,-223\" stroke=\"black\"/>\n",
       "<text font-family=\"Times,serif\" font-size=\"14.00\" text-anchor=\"middle\" x=\"87\" y=\"-237.3\">dropout_35 (Dropout)</text>\n",
       "</g>\n",
       "<!-- 140570198317456&#45;&gt;140570187480336 -->\n",
       "<g class=\"edge\" id=\"edge4\"><title>140570198317456-&gt;140570187480336</title>\n",
       "<path d=\"M87,-296.937C87,-288.807 87,-278.876 87,-269.705\" fill=\"none\" stroke=\"black\"/>\n",
       "<polygon fill=\"black\" points=\"90.5001,-269.441 87,-259.441 83.5001,-269.441 90.5001,-269.441\" stroke=\"black\"/>\n",
       "</g>\n",
       "<!-- 140570042177040 -->\n",
       "<g class=\"node\" id=\"node6\"><title>140570042177040</title>\n",
       "<polygon fill=\"none\" points=\"30,-149 30,-185 144,-185 144,-149 30,-149\" stroke=\"black\"/>\n",
       "<text font-family=\"Times,serif\" font-size=\"14.00\" text-anchor=\"middle\" x=\"87\" y=\"-163.3\">dense_47 (Dense)</text>\n",
       "</g>\n",
       "<!-- 140570187480336&#45;&gt;140570042177040 -->\n",
       "<g class=\"edge\" id=\"edge5\"><title>140570187480336-&gt;140570042177040</title>\n",
       "<path d=\"M87,-222.937C87,-214.807 87,-204.876 87,-195.705\" fill=\"none\" stroke=\"black\"/>\n",
       "<polygon fill=\"black\" points=\"90.5001,-195.441 87,-185.441 83.5001,-195.441 90.5001,-195.441\" stroke=\"black\"/>\n",
       "</g>\n",
       "<!-- 140569774991504 -->\n",
       "<g class=\"node\" id=\"node7\"><title>140569774991504</title>\n",
       "<polygon fill=\"none\" points=\"18.5,-75 18.5,-111 155.5,-111 155.5,-75 18.5,-75\" stroke=\"black\"/>\n",
       "<text font-family=\"Times,serif\" font-size=\"14.00\" text-anchor=\"middle\" x=\"87\" y=\"-89.3\">dropout_36 (Dropout)</text>\n",
       "</g>\n",
       "<!-- 140570042177040&#45;&gt;140569774991504 -->\n",
       "<g class=\"edge\" id=\"edge6\"><title>140570042177040-&gt;140569774991504</title>\n",
       "<path d=\"M87,-148.937C87,-140.807 87,-130.876 87,-121.705\" fill=\"none\" stroke=\"black\"/>\n",
       "<polygon fill=\"black\" points=\"90.5001,-121.441 87,-111.441 83.5001,-121.441 90.5001,-121.441\" stroke=\"black\"/>\n",
       "</g>\n",
       "<!-- 140569858500560 -->\n",
       "<g class=\"node\" id=\"node8\"><title>140569858500560</title>\n",
       "<polygon fill=\"none\" points=\"30,-1 30,-37 144,-37 144,-1 30,-1\" stroke=\"black\"/>\n",
       "<text font-family=\"Times,serif\" font-size=\"14.00\" text-anchor=\"middle\" x=\"87\" y=\"-15.3\">dense_48 (Dense)</text>\n",
       "</g>\n",
       "<!-- 140569774991504&#45;&gt;140569858500560 -->\n",
       "<g class=\"edge\" id=\"edge7\"><title>140569774991504-&gt;140569858500560</title>\n",
       "<path d=\"M87,-74.937C87,-66.8072 87,-56.8761 87,-47.7047\" fill=\"none\" stroke=\"black\"/>\n",
       "<polygon fill=\"black\" points=\"90.5001,-47.4406 87,-37.4407 83.5001,-47.4407 90.5001,-47.4406\" stroke=\"black\"/>\n",
       "</g>\n",
       "</g>\n",
       "</svg>"
      ],
      "text/plain": [
       "<IPython.core.display.SVG object>"
      ]
     },
     "execution_count": 28,
     "metadata": {},
     "output_type": "execute_result"
    }
   ],
   "source": [
    "#create_model().get_config()\n",
    "#SVG(vutil.to_graph(create_model(), recursive=True, show_shape=True).create(prog='dot', format=\"svg\"))\n",
    "#graph = to_graph(create_model(), show_shape=True)\n",
    "#plot(create_model(),to_file='model.png')\n",
    "SVG(model_to_dot(create_model()).create(prog='dot', format='svg'))"
   ]
  },
  {
   "cell_type": "code",
   "execution_count": 29,
   "metadata": {
    "collapsed": false
   },
   "outputs": [
    {
     "name": "stdout",
     "output_type": "stream",
     "text": [
      "((68, 70534), (68,))\n"
     ]
    }
   ],
   "source": [
    "print(X.shape, Y.shape)"
   ]
  },
  {
   "cell_type": "code",
   "execution_count": 30,
   "metadata": {
    "collapsed": true
   },
   "outputs": [],
   "source": [
    "# learning rate schedule\n",
    "def continous_decay(epoch): \n",
    "    return learning_rate / float(epoch)"
   ]
  },
  {
   "cell_type": "code",
   "execution_count": 31,
   "metadata": {
    "collapsed": false
   },
   "outputs": [
    {
     "data": {
      "text/plain": [
       "[<matplotlib.lines.Line2D at 0x7fd90a21c790>]"
      ]
     },
     "execution_count": 31,
     "metadata": {},
     "output_type": "execute_result"
    },
    {
     "data": {
      "image/png": "[encoded data removed]",
      "text/plain": [
       "<matplotlib.figure.Figure at 0x7fd8f39c8dd0>"
      ]
     },
     "metadata": {},
     "output_type": "display_data"
    }
   ],
   "source": [
    "decay = []\n",
    "learning_rate = 0.01\n",
    "for i in range(1,20):\n",
    "    decay.append(continous_decay(i))\n",
    "plt.plot(decay)"
   ]
  },
  {
   "cell_type": "code",
   "execution_count": 32,
   "metadata": {
    "collapsed": false
   },
   "outputs": [
    {
     "name": "stdout",
     "output_type": "stream",
     "text": [
      "Larger: 86.49% (8.90%)\n"
     ]
    }
   ],
   "source": [
    "# Compile model\n",
    "epochs = 50\n",
    "learning_rate = 0.1\n",
    "decay_rate = learning_rate / epochs #Continous \n",
    "#decay_rate = continous_decay\n",
    "momentum = 0.8\n",
    "\n",
    "# fix random seed for reproducibility\n",
    "seed = 7\n",
    "np.random.seed(seed)\n",
    "# encode class values as integers\n",
    "encoder = LabelEncoder()\n",
    "encoder.fit(Y)\n",
    "encoded_Y = encoder.transform(Y)\n",
    "#encoded_Y\n",
    "# convert integers to dummy variables (i.e. one hot encoded)\n",
    "#dummy_y = np_utils.to_categorical(encoded_Y)\n",
    "\n",
    "sgd = SGD(lr=learning_rate, momentum=momentum, decay=decay_rate, nesterov=False)\n",
    "#adadelta = Adadelta(lr=learning_rate, decay=decay_rate)\n",
    "# dropout in hidden layers with weight constraint\n",
    "def create_model():\n",
    "    # create model\n",
    "    model = Sequential()\n",
    "    #model.add(Dropout(0.2), input_shape=(70534,))\n",
    "    #model.add(Dense(300, init= 'normal', activation= 'relu' ))\n",
    "    model.add(Dense(300, input_dim=70534, init= 'normal' , activation= 'relu' ))\n",
    "    model.add(Dropout(0.5))\n",
    "    model.add(Dense(100, init= 'normal', activation= 'relu'))\n",
    "    model.add(Dropout(0.5))\n",
    "    model.add(Dense(20, init= 'normal', activation= 'relu'))\n",
    "    model.add(Dropout(0.5))\n",
    "    model.add(Dense(1, init= 'normal' , activation= 'sigmoid'))\n",
    "    # Compile model\n",
    "    model.compile(loss= 'binary_crossentropy' , optimizer= 'sgd' , metrics=['accuracy'])\n",
    "    return model\n",
    "\n",
    "np.random.seed(seed)\n",
    "estimators = []\n",
    "estimators.append(('standardize' , StandardScaler()))\n",
    "estimators.append(('mlp', KerasClassifier(build_fn=create_model, nb_epoch=100, batch_size=5, verbose=0)))\n",
    "pipeline = Pipeline(estimators)\n",
    "kfold = StratifiedKFold(y=encoded_Y, n_folds=10, shuffle=True, random_state=seed)\n",
    "results = cross_val_score(pipeline, X, encoded_Y, cv=kfold)\n",
    "print(\"Larger: %.2f%% (%.2f%%)\" % (results.mean()*100, results.std()*100))\n",
    "#print model.predict_classes(X, verbose=0)"
   ]
  },
  {
   "cell_type": "code",
   "execution_count": 35,
   "metadata": {
    "collapsed": false
   },
   "outputs": [],
   "source": [
    "# learning rate schedule, drop learning rate discrete instead of continous i.e. epoch 1-5,lr=0.1; epoch 5-10,lr=0.01\n",
    "def step_decay(epoch):\n",
    "    initial_lrate = 0.1\n",
    "    drop = 0.5\n",
    "    epochs_drop = 10.0\n",
    "    lrate = initial_lrate * math.pow(drop, math.floor((1+epoch)/epochs_drop))\n",
    "    return lrate"
   ]
  },
  {
   "cell_type": "code",
   "execution_count": 36,
   "metadata": {
    "collapsed": false
   },
   "outputs": [
    {
     "data": {
      "text/plain": [
       "[<matplotlib.lines.Line2D at 0x7fd8f8796ad0>]"
      ]
     },
     "execution_count": 36,
     "metadata": {},
     "output_type": "execute_result"
    },
    {
     "data": {
      "image/png": "[encoded data removed]",
      "text/plain": [
       "<matplotlib.figure.Figure at 0x7fd90c0b9ad0>"
      ]
     },
     "metadata": {},
     "output_type": "display_data"
    }
   ],
   "source": [
    "decay = []\n",
    "for i in range(20):\n",
    "    decay.append(step_decay(i))\n",
    "plt.plot(decay)"
   ]
  },
  {
   "cell_type": "code",
   "execution_count": null,
   "metadata": {
    "collapsed": false
   },
   "outputs": [],
   "source": []
  },
  {
   "cell_type": "code",
   "execution_count": 44,
   "metadata": {
    "collapsed": false
   },
   "outputs": [
    {
     "name": "stdout",
     "output_type": "stream",
     "text": [
      "Train on 47 samples, validate on 21 samples\n",
      "Epoch 1/50\n",
      "0s - loss: 14.1147 - acc: 0.1064 - val_loss: 1.0000e-07 - val_acc: 1.0000\n",
      "Epoch 2/50\n",
      "0s - loss: 15.4322 - acc: 0.0426 - val_loss: 1.0000e-07 - val_acc: 1.0000\n",
      "Epoch 3/50\n",
      "0s - loss: 15.4322 - acc: 0.0426 - val_loss: 1.0000e-07 - val_acc: 1.0000\n",
      "Epoch 4/50\n",
      "0s - loss: 15.4322 - acc: 0.0426 - val_loss: 1.0000e-07 - val_acc: 1.0000\n",
      "Epoch 5/50\n",
      "0s - loss: 15.4322 - acc: 0.0426 - val_loss: 1.0000e-07 - val_acc: 1.0000\n",
      "Epoch 6/50\n",
      "0s - loss: 15.4322 - acc: 0.0426 - val_loss: 1.0000e-07 - val_acc: 1.0000\n",
      "Epoch 7/50\n",
      "0s - loss: 15.4322 - acc: 0.0426 - val_loss: 1.0000e-07 - val_acc: 1.0000\n",
      "Epoch 8/50\n",
      "0s - loss: 15.4322 - acc: 0.0426 - val_loss: 1.0000e-07 - val_acc: 1.0000\n",
      "Epoch 9/50\n",
      "0s - loss: 15.4322 - acc: 0.0426 - val_loss: 1.0000e-07 - val_acc: 1.0000\n",
      "Epoch 10/50\n",
      "0s - loss: 15.4322 - acc: 0.0426 - val_loss: 1.0000e-07 - val_acc: 1.0000\n",
      "Epoch 11/50\n",
      "0s - loss: 15.4322 - acc: 0.0426 - val_loss: 1.0000e-07 - val_acc: 1.0000\n",
      "Epoch 12/50\n",
      "0s - loss: 15.4322 - acc: 0.0426 - val_loss: 1.0000e-07 - val_acc: 1.0000\n",
      "Epoch 13/50\n",
      "0s - loss: 15.4322 - acc: 0.0426 - val_loss: 1.0000e-07 - val_acc: 1.0000\n",
      "Epoch 14/50\n",
      "0s - loss: 15.4322 - acc: 0.0426 - val_loss: 1.0000e-07 - val_acc: 1.0000\n",
      "Epoch 15/50\n",
      "0s - loss: 15.4322 - acc: 0.0426 - val_loss: 1.0000e-07 - val_acc: 1.0000\n",
      "Epoch 16/50\n",
      "0s - loss: 15.4322 - acc: 0.0426 - val_loss: 1.0000e-07 - val_acc: 1.0000\n",
      "Epoch 17/50\n",
      "0s - loss: 15.4322 - acc: 0.0426 - val_loss: 1.0000e-07 - val_acc: 1.0000\n",
      "Epoch 18/50\n",
      "0s - loss: 15.4322 - acc: 0.0426 - val_loss: 1.0000e-07 - val_acc: 1.0000\n",
      "Epoch 19/50\n",
      "0s - loss: 15.4322 - acc: 0.0426 - val_loss: 1.0000e-07 - val_acc: 1.0000\n",
      "Epoch 20/50\n",
      "0s - loss: 15.4322 - acc: 0.0426 - val_loss: 1.0000e-07 - val_acc: 1.0000\n",
      "Epoch 21/50\n",
      "0s - loss: 15.4322 - acc: 0.0426 - val_loss: 1.0000e-07 - val_acc: 1.0000\n",
      "Epoch 22/50\n",
      "0s - loss: 15.4322 - acc: 0.0426 - val_loss: 1.0000e-07 - val_acc: 1.0000\n",
      "Epoch 23/50\n",
      "0s - loss: 15.4322 - acc: 0.0426 - val_loss: 1.0000e-07 - val_acc: 1.0000\n",
      "Epoch 24/50\n",
      "0s - loss: 15.4322 - acc: 0.0426 - val_loss: 1.0000e-07 - val_acc: 1.0000\n",
      "Epoch 25/50\n",
      "0s - loss: 15.4322 - acc: 0.0426 - val_loss: 1.0000e-07 - val_acc: 1.0000\n",
      "Epoch 26/50\n",
      "0s - loss: 15.4322 - acc: 0.0426 - val_loss: 1.0000e-07 - val_acc: 1.0000\n",
      "Epoch 27/50\n",
      "0s - loss: 15.4322 - acc: 0.0426 - val_loss: 1.0000e-07 - val_acc: 1.0000\n",
      "Epoch 28/50\n",
      "0s - loss: 15.4322 - acc: 0.0426 - val_loss: 1.0000e-07 - val_acc: 1.0000\n",
      "Epoch 29/50\n",
      "0s - loss: 15.4322 - acc: 0.0426 - val_loss: 1.0000e-07 - val_acc: 1.0000\n",
      "Epoch 30/50\n",
      "0s - loss: 15.4322 - acc: 0.0426 - val_loss: 1.0000e-07 - val_acc: 1.0000\n",
      "Epoch 31/50\n",
      "0s - loss: 15.4322 - acc: 0.0426 - val_loss: 1.0000e-07 - val_acc: 1.0000\n",
      "Epoch 32/50\n",
      "0s - loss: 15.4322 - acc: 0.0426 - val_loss: 1.0000e-07 - val_acc: 1.0000\n",
      "Epoch 33/50\n",
      "0s - loss: 15.4322 - acc: 0.0426 - val_loss: 1.0000e-07 - val_acc: 1.0000\n",
      "Epoch 34/50\n",
      "0s - loss: 15.4322 - acc: 0.0426 - val_loss: 1.0000e-07 - val_acc: 1.0000\n",
      "Epoch 35/50\n",
      "0s - loss: 15.4322 - acc: 0.0426 - val_loss: 1.0000e-07 - val_acc: 1.0000\n",
      "Epoch 36/50\n",
      "0s - loss: 15.4322 - acc: 0.0426 - val_loss: 1.0000e-07 - val_acc: 1.0000\n",
      "Epoch 37/50\n",
      "0s - loss: 15.4322 - acc: 0.0426 - val_loss: 1.0000e-07 - val_acc: 1.0000\n",
      "Epoch 38/50\n",
      "0s - loss: 15.4322 - acc: 0.0426 - val_loss: 1.0000e-07 - val_acc: 1.0000\n",
      "Epoch 39/50\n",
      "0s - loss: 15.4322 - acc: 0.0426 - val_loss: 1.0000e-07 - val_acc: 1.0000\n",
      "Epoch 40/50\n",
      "0s - loss: 15.4322 - acc: 0.0426 - val_loss: 1.0000e-07 - val_acc: 1.0000\n",
      "Epoch 41/50\n",
      "0s - loss: 15.4322 - acc: 0.0426 - val_loss: 1.0000e-07 - val_acc: 1.0000\n",
      "Epoch 42/50\n",
      "0s - loss: 15.4322 - acc: 0.0426 - val_loss: 1.0000e-07 - val_acc: 1.0000\n",
      "Epoch 43/50\n",
      "0s - loss: 15.4322 - acc: 0.0426 - val_loss: 1.0000e-07 - val_acc: 1.0000\n",
      "Epoch 44/50\n",
      "0s - loss: 15.4322 - acc: 0.0426 - val_loss: 1.0000e-07 - val_acc: 1.0000\n",
      "Epoch 45/50\n",
      "0s - loss: 15.4322 - acc: 0.0426 - val_loss: 1.0000e-07 - val_acc: 1.0000\n",
      "Epoch 46/50\n",
      "0s - loss: 15.4322 - acc: 0.0426 - val_loss: 1.0000e-07 - val_acc: 1.0000\n",
      "Epoch 47/50\n",
      "0s - loss: 15.4322 - acc: 0.0426 - val_loss: 1.0000e-07 - val_acc: 1.0000\n",
      "Epoch 48/50\n",
      "0s - loss: 15.4322 - acc: 0.0426 - val_loss: 1.0000e-07 - val_acc: 1.0000\n",
      "Epoch 49/50\n",
      "0s - loss: 15.4322 - acc: 0.0426 - val_loss: 1.0000e-07 - val_acc: 1.0000\n",
      "Epoch 50/50\n",
      "0s - loss: 15.4322 - acc: 0.0426 - val_loss: 1.0000e-07 - val_acc: 1.0000\n"
     ]
    }
   ],
   "source": [
    "# Compile model\n",
    "epochs = 50\n",
    "learning_rate = 0.1\n",
    "#decay_rate = continous_decay\n",
    "momentum = 0.8\n",
    "\n",
    "# fix random seed for reproducibility\n",
    "seed = 7\n",
    "np.random.seed(seed)\n",
    "# encode class values as integers\n",
    "encoder = LabelEncoder()\n",
    "encoder.fit(Y)\n",
    "encoded_Y = encoder.transform(Y)\n",
    "#encoded_Y\n",
    "# convert integers to dummy variables (i.e. one hot encoded)\n",
    "#encoded_Y_one_hot = np_utils.to_categorical(encoded_Y)\n",
    "\n",
    "#adadelta = Adadelta(lr=learning_rate, decay=decay_rate)\n",
    "# dropout in hidden layers with weight constraint\n",
    "def create_model():\n",
    "    # create model\n",
    "    model = Sequential()\n",
    "    #model.add(Dropout(0.2), input_shape=(70534,))\n",
    "    #model.add(Dense(300, init= 'normal', activation= 'relu' ))\n",
    "    model.add(Dense(1000, input_dim=70534, init= 'normal', activation= 'relu'))\n",
    "    #model.add(Dense(300, input_shape=(70534,), init= 'normal' , activation= 'relu' ))\n",
    "    #model.add(Dense(300, input_dim=70534, init= 'normal' , activation= 'relu' ))\n",
    "    #model.add(Dropout(0.5))\n",
    "    model.add(Dense(100, init= 'normal', activation= 'relu'))\n",
    "    #model.add(Dropout(0.5))\n",
    "    model.add(Dense(20, init= 'normal', activation= 'relu'))\n",
    "    #model.add(Dropout(0.5))\n",
    "    model.add(Dense(1, init= 'normal' , activation= 'sigmoid'))    \n",
    "    return model\n",
    "\n",
    "model = create_model()\n",
    "# Compile model\n",
    "sgd = SGD(lr=0.0, momentum=0.9, decay=0.0, nesterov=False)\n",
    "model.compile(loss='binary_crossentropy', optimizer='adam', class_mode='categorical', metrics=['accuracy'])\n",
    "# learning schedule callback\n",
    "lrate = LearningRateScheduler(step_decay)\n",
    "callbacks_list = [lrate]\n",
    "# Fit the model\n",
    "hist = model.fit(X, encoded_Y, validation_split=0.30, nb_epoch=50, batch_size=5, \n",
    "          callbacks=callbacks_list, verbose=2) \n",
    "\n",
    "#score = model.evaluate(X_test4.as_matrix(), Y_test, show_accuracy=True, verbose=0)"
   ]
  },
  {
   "cell_type": "code",
   "execution_count": 55,
   "metadata": {
    "collapsed": false
   },
   "outputs": [
    {
     "data": {
      "text/plain": [
       "<matplotlib.text.Text at 0x7fd8f6b0c290>"
      ]
     },
     "execution_count": 55,
     "metadata": {},
     "output_type": "execute_result"
    },
    {
     "data": {
      "image/png": "[encoded data removed]",
      "text/plain": [
       "<matplotlib.figure.Figure at 0x7fd8f5235610>"
      ]
     },
     "metadata": {},
     "output_type": "display_data"
    }
   ],
   "source": [
    "plt.figure()\n",
    "plt.title('Training performance',fontsize=14)\n",
    "plt.plot(hist.epoch, hist.history['loss'],'--', label='train_loss', lw=2)\n",
    "plt.plot(hist.epoch, hist.history['val_loss'], label='val_loss', lw=2)\n",
    "plt.legend()\n",
    "plt.xlabel('epoch', fontsize=14)\n",
    "plt.ylabel('loss', fontsize=14)"
   ]
  },
  {
   "cell_type": "code",
   "execution_count": 40,
   "metadata": {
    "collapsed": false
   },
   "outputs": [
    {
     "name": "stdout",
     "output_type": "stream",
     "text": [
      "(68, 70534)\n"
     ]
    }
   ],
   "source": [
    "print X.shape\n",
    "X_ = X.reshape(68,70534,1)"
   ]
  },
  {
   "cell_type": "code",
   "execution_count": 52,
   "metadata": {
    "collapsed": false
   },
   "outputs": [
    {
     "name": "stdout",
     "output_type": "stream",
     "text": [
      "((47, 70534), (21, 70534))\n"
     ]
    }
   ],
   "source": [
    "X_train_1, X_test_1, Y_train_1, Y_test_1 = cross_validation.train_test_split(X, Y, test_size=0.3, random_state=seed)\n",
    "print(X_train_1.shape, X_test_1.shape)"
   ]
  },
  {
   "cell_type": "code",
   "execution_count": 53,
   "metadata": {
    "collapsed": true
   },
   "outputs": [],
   "source": [
    "X_train_2 = X_train_1.reshape(47,70534,1)\n",
    "X_test_2 = X_test_1.reshape(21,70534,1)"
   ]
  },
  {
   "cell_type": "code",
   "execution_count": 57,
   "metadata": {
    "collapsed": false
   },
   "outputs": [
    {
     "name": "stdout",
     "output_type": "stream",
     "text": [
      "Build model...\n",
      "Train...\n",
      "Train on 47 samples, validate on 21 samples\n",
      "Epoch 1/10\n",
      "0s - loss: 0.6498 - acc: 0.7447 - val_loss: 0.7561 - val_acc: 0.3333\n",
      "Epoch 2/10\n",
      "0s - loss: 0.6321 - acc: 0.7234 - val_loss: 0.8740 - val_acc: 0.3333\n",
      "Epoch 3/10\n",
      "0s - loss: 0.5756 - acc: 0.7234 - val_loss: 3.2483 - val_acc: 0.3333\n",
      "Epoch 4/10\n",
      "0s - loss: 0.5220 - acc: 0.7660 - val_loss: 0.6508 - val_acc: 0.7619\n",
      "Epoch 5/10\n",
      "0s - loss: 0.5329 - acc: 0.7234 - val_loss: 2.1304 - val_acc: 0.3333\n",
      "Epoch 6/10\n",
      "0s - loss: 0.5676 - acc: 0.7234 - val_loss: 8.5216 - val_acc: 0.3333\n",
      "Epoch 7/10\n",
      "0s - loss: 0.5456 - acc: 0.8085 - val_loss: 0.6394 - val_acc: 0.6667\n",
      "Epoch 8/10\n",
      "0s - loss: 0.6488 - acc: 0.7234 - val_loss: 0.5930 - val_acc: 0.7143\n",
      "Epoch 9/10\n",
      "0s - loss: 0.4348 - acc: 0.8723 - val_loss: 0.7836 - val_acc: 0.6667\n",
      "Epoch 10/10\n",
      "0s - loss: 0.4295 - acc: 0.8723 - val_loss: 0.6639 - val_acc: 0.8571\n",
      "20/21 [===========================>..] - ETA: 0s"
     ]
    }
   ],
   "source": [
    "#1D CNN\n",
    "\n",
    "# 1D conv\n",
    "\n",
    "# set parameters:\n",
    "batch_size = 5\n",
    "input_length = X.shape[1]\n",
    "nb_epoch = 10\n",
    "nb_classes = 2\n",
    "\n",
    "seed = 7\n",
    "np.random.seed(seed)\n",
    "# encode class values as integers\n",
    "encoder = LabelEncoder()\n",
    "encoder.fit(Y)\n",
    "encoded_Y = encoder.transform(Y)\n",
    "#encoded_Y\n",
    "# convert integers to dummy variables (i.e. one hot encoded)\n",
    "#dummy_y = np_utils.to_categorical(encoded_Y)\n",
    "\n",
    "Y_train_2 = np_utils.to_categorical(Y_train_1)\n",
    "Y_test_2  = np_utils.to_categorical(Y_test_1)\n",
    "\n",
    "print('Build model...')\n",
    "\n",
    "model = Sequential()\n",
    "\n",
    "model.add(Convolution1D(nb_filter=64,\n",
    "                        filter_length=3,\n",
    "                        border_mode='valid',\n",
    "                        activation='relu',\n",
    "                        input_dim=1, \n",
    "                        input_length=input_length)) \n",
    "                       \n",
    "model.add(Convolution1D(nb_filter=32,\n",
    "                        filter_length=3,\n",
    "                        border_mode='valid',\n",
    "                        activation='relu'))\n",
    "                        \n",
    "model.add(MaxPooling1D(pool_length=2))\n",
    "\n",
    "model.add(Convolution1D(nb_filter=16,\n",
    "                        filter_length=3,\n",
    "                        border_mode='valid',\n",
    "                        activation='relu'))\n",
    "\n",
    "model.add(Convolution1D(nb_filter=16,\n",
    "                        filter_length=3,\n",
    "                        border_mode='same',\n",
    "                        activation='relu'))\n",
    "\n",
    "model.add(MaxPooling1D(pool_length=2))\n",
    "\n",
    "# Adding GRU layer \n",
    "#model.add(GRU(output_dim=14))\n",
    "#model.add(Activation('relu'))\n",
    "\n",
    "#print_layers_shapes(model)\n",
    "\n",
    "model.add(Flatten())\n",
    "\n",
    "model.add(Dense(10))\n",
    "model.add(BatchNormalization())\n",
    "model.add(Dropout(0.5))\n",
    "model.add(Activation('relu'))\n",
    "\n",
    "# We project onto a single unit output layer, and squash it with a sigmoid:\n",
    "model.add(Dense(nb_classes)) \n",
    "#model.add(Dense(1)) \n",
    "model.add(Activation('sigmoid'))\n",
    "\n",
    "#print_layers_shapes(model)\n",
    "\n",
    "rms = RMSprop()\n",
    "model.compile(loss='binary_crossentropy', optimizer=rms, class_mode='categorical', metrics=['accuracy'])\n",
    "\n",
    "print('Train...')\n",
    "history = model.fit(X_train_2, Y_train_2, batch_size=batch_size, \n",
    "                    nb_epoch=nb_epoch, show_accuracy=True, validation_data=(X_test_2, Y_test_2),verbose=2)\n",
    "\n",
    "score, acc = model.evaluate(X_test_2, Y_test_2, batch_size=batch_size, show_accuracy=True)\n",
    "\n",
    "#print('Test accuracy:', acc)\n",
    "#print('Test score:', score)"
   ]
  },
  {
   "cell_type": "code",
   "execution_count": 58,
   "metadata": {
    "collapsed": false
   },
   "outputs": [
    {
     "data": {
      "text/plain": [
       "array([1, 1, 0, 1, 1, 1, 1, 0, 1, 1, 0, 1, 1, 0, 1, 1, 1, 1, 1, 1, 1])"
      ]
     },
     "execution_count": 58,
     "metadata": {},
     "output_type": "execute_result"
    }
   ],
   "source": [
    "model.predict_classes(X_test_2, verbose=0)"
   ]
  },
  {
   "cell_type": "code",
   "execution_count": null,
   "metadata": {
    "collapsed": true
   },
   "outputs": [],
   "source": []
  },
  {
   "cell_type": "code",
   "execution_count": null,
   "metadata": {
    "collapsed": true
   },
   "outputs": [],
   "source": []
  },
  {
   "cell_type": "code",
   "execution_count": null,
   "metadata": {
    "collapsed": true
   },
   "outputs": [],
   "source": []
  },
  {
   "cell_type": "code",
   "execution_count": null,
   "metadata": {
    "collapsed": true
   },
   "outputs": [],
   "source": []
  },
  {
   "cell_type": "code",
   "execution_count": null,
   "metadata": {
    "collapsed": true
   },
   "outputs": [],
   "source": []
  },
  {
   "cell_type": "code",
   "execution_count": null,
   "metadata": {
    "collapsed": true
   },
   "outputs": [],
   "source": []
  },
  {
   "cell_type": "code",
   "execution_count": null,
   "metadata": {
    "collapsed": true
   },
   "outputs": [],
   "source": []
  },
  {
   "cell_type": "code",
   "execution_count": null,
   "metadata": {
    "collapsed": true
   },
   "outputs": [],
   "source": []
  },
  {
   "cell_type": "code",
   "execution_count": null,
   "metadata": {
    "collapsed": true
   },
   "outputs": [],
   "source": []
  },
  {
   "cell_type": "code",
   "execution_count": null,
   "metadata": {
    "collapsed": true
   },
   "outputs": [],
   "source": []
  },
  {
   "cell_type": "code",
   "execution_count": null,
   "metadata": {
    "collapsed": true
   },
   "outputs": [],
   "source": []
  },
  {
   "cell_type": "code",
   "execution_count": null,
   "metadata": {
    "collapsed": true
   },
   "outputs": [],
   "source": []
  },
  {
   "cell_type": "code",
   "execution_count": null,
   "metadata": {
    "collapsed": true
   },
   "outputs": [],
   "source": []
  },
  {
   "cell_type": "code",
   "execution_count": null,
   "metadata": {
    "collapsed": true
   },
   "outputs": [],
   "source": []
  },
  {
   "cell_type": "code",
   "execution_count": null,
   "metadata": {
    "collapsed": true
   },
   "outputs": [],
   "source": []
  }
 ],
 "metadata": {
  "kernelspec": {
   "display_name": "Python 2",
   "language": "python",
   "name": "python2"
  },
  "language_info": {
   "codemirror_mode": {
    "name": "ipython",
    "version": 2
   },
   "file_extension": ".py",
   "mimetype": "text/x-python",
   "name": "python",
   "nbconvert_exporter": "python",
   "pygments_lexer": "ipython2",
   "version": "2.7.6"
  }
 },
 "nbformat": 4,
 "nbformat_minor": 0
}
